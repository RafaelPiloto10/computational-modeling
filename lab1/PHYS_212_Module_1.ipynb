{
  "nbformat": 4,
  "nbformat_minor": 0,
  "metadata": {
    "colab": {
      "name": "PHYS 212: Module 1.ipynb",
      "provenance": [],
      "collapsed_sections": []
    },
    "kernelspec": {
      "name": "python3",
      "display_name": "Python 3"
    },
    "language_info": {
      "name": "python"
    }
  },
  "cells": [
    {
      "cell_type": "markdown",
      "source": [
        "This assignment will be due on Wednesday, January 26 at 11:59 pm ET.  To submit your work, please download this document as a .ipynb file and upload that to Canvas. "
      ],
      "metadata": {
        "id": "gavUH010x4Vs"
      }
    },
    {
      "cell_type": "markdown",
      "source": [
        "1. Add a text block below this, and add the names of your group members, as well as any other classmates you collaborated with for this assignment. "
      ],
      "metadata": {
        "id": "OZ5zNMIN01R3"
      }
    },
    {
      "cell_type": "markdown",
      "source": [
        "> Group 2: Rafael Piloto, Zee Kwong, Muyi Chen, Ginger Lau"
      ],
      "metadata": {
        "id": "hHkfB4HVnURX"
      }
    },
    {
      "cell_type": "markdown",
      "source": [
        "2. Give three examples of problems that computers are well-suited to solve, and explain why it might be beneficial to have computers solve these problems."
      ],
      "metadata": {
        "id": "FgnDP1Wf3AMY"
      }
    },
    {
      "cell_type": "markdown",
      "source": [
        "> 1. Computers are well suited for predicting future events, which is beneficial for preperation. For example, models that predict the spread of COVID can help states prepare for incoming surges.\n",
        "> 2. Computers are well suited for estimating system behavior, which is beneficial for understanding how a system might work. For example, models that simulate environments can be used to understand how an environment might behave in the real world. \n",
        "> 3. Computers are well suited for testing hypotheses. Through the ability of prediction and simulation, we can verify hypotheses, which is beneficial because they are low-cost. "
      ],
      "metadata": {
        "id": "q7-ogUHInbo-"
      }
    },
    {
      "cell_type": "markdown",
      "source": [
        "3. Explain what a model is, and how we might decide if a model is good or bad."
      ],
      "metadata": {
        "id": "1ckTSDhj3z_d"
      }
    },
    {
      "cell_type": "markdown",
      "source": [
        "> A model is a simplified mathematical representation of a physical, biological, etc system, phenomenon, or process. A good model should capture some aspect of the system of interest."
      ],
      "metadata": {
        "id": "tt15Y_nbnwdG"
      }
    },
    {
      "cell_type": "markdown",
      "source": [
        "4. Type and execute all snippets of code in Section 1.3 of the textbook."
      ],
      "metadata": {
        "id": "vG-GuKFb3_6v"
      }
    },
    {
      "cell_type": "code",
      "source": [
        "import numpy\n",
        "sqrt(2)"
      ],
      "metadata": {
        "colab": {
          "base_uri": "https://localhost:8080/",
          "height": 184
        },
        "id": "t0Gul3NS7TQj",
        "outputId": "fddb4f48-dfa5-48ca-fe88-6b5603283bfd"
      },
      "execution_count": 1,
      "outputs": [
        {
          "output_type": "error",
          "ename": "NameError",
          "evalue": "ignored",
          "traceback": [
            "\u001b[0;31m---------------------------------------------------------------------------\u001b[0m",
            "\u001b[0;31mNameError\u001b[0m                                 Traceback (most recent call last)",
            "\u001b[0;32m<ipython-input-1-0c1b4623f26e>\u001b[0m in \u001b[0;36m<module>\u001b[0;34m()\u001b[0m\n\u001b[1;32m      1\u001b[0m \u001b[0;32mimport\u001b[0m \u001b[0mnumpy\u001b[0m\u001b[0;34m\u001b[0m\u001b[0;34m\u001b[0m\u001b[0m\n\u001b[0;32m----> 2\u001b[0;31m \u001b[0msqrt\u001b[0m\u001b[0;34m(\u001b[0m\u001b[0;36m2\u001b[0m\u001b[0;34m)\u001b[0m\u001b[0;34m\u001b[0m\u001b[0;34m\u001b[0m\u001b[0m\n\u001b[0m",
            "\u001b[0;31mNameError\u001b[0m: name 'sqrt' is not defined"
          ]
        }
      ]
    },
    {
      "cell_type": "code",
      "source": [
        "import numpy\n",
        "numpy.sqrt(2)"
      ],
      "metadata": {
        "colab": {
          "base_uri": "https://localhost:8080/",
          "height": 0
        },
        "id": "2zpchuH77jFY",
        "outputId": "2fe81250-3c6e-4860-b241-16e9d0f05224"
      },
      "execution_count": 3,
      "outputs": [
        {
          "output_type": "execute_result",
          "data": {
            "text/plain": [
              "1.4142135623730951"
            ]
          },
          "metadata": {},
          "execution_count": 3
        }
      ]
    },
    {
      "cell_type": "code",
      "source": [
        "from numpy import *\n",
        "sqrt(2)"
      ],
      "metadata": {
        "colab": {
          "base_uri": "https://localhost:8080/",
          "height": 0
        },
        "id": "m3J6pf0T7duk",
        "outputId": "12aa3812-8e6d-4547-9bdc-906835726b43"
      },
      "execution_count": 2,
      "outputs": [
        {
          "output_type": "execute_result",
          "data": {
            "text/plain": [
              "1.4142135623730951"
            ]
          },
          "metadata": {},
          "execution_count": 2
        }
      ]
    },
    {
      "cell_type": "code",
      "source": [
        "import numpy as np\n",
        "np.sqrt(2)"
      ],
      "metadata": {
        "colab": {
          "base_uri": "https://localhost:8080/",
          "height": 0
        },
        "id": "C2wdRk_J7nC1",
        "outputId": "2b51f170-8c69-44a6-e7e6-9dc0d56567a0"
      },
      "execution_count": 4,
      "outputs": [
        {
          "output_type": "execute_result",
          "data": {
            "text/plain": [
              "1.4142135623730951"
            ]
          },
          "metadata": {},
          "execution_count": 4
        }
      ]
    },
    {
      "cell_type": "code",
      "source": [
        "from numpy import sqrt, exp\n",
        "sqrt(2)\n",
        "exp(3)"
      ],
      "metadata": {
        "colab": {
          "base_uri": "https://localhost:8080/",
          "height": 0
        },
        "id": "TCLM5u-A7rmY",
        "outputId": "4f3a2834-8d33-41f6-e796-b7fde607485e"
      },
      "execution_count": 7,
      "outputs": [
        {
          "output_type": "execute_result",
          "data": {
            "text/plain": [
              "20.085536923187668"
            ]
          },
          "metadata": {},
          "execution_count": 7
        }
      ]
    },
    {
      "cell_type": "code",
      "source": [
        "from numpy.random import random as rng\n",
        "rng()"
      ],
      "metadata": {
        "colab": {
          "base_uri": "https://localhost:8080/",
          "height": 0
        },
        "id": "eLaTXfcx7vwt",
        "outputId": "94fd2b82-f9a6-40d9-ba1d-2a9d915121c3"
      },
      "execution_count": 8,
      "outputs": [
        {
          "output_type": "execute_result",
          "data": {
            "text/plain": [
              "0.27790651885253004"
            ]
          },
          "metadata": {},
          "execution_count": 8
        }
      ]
    },
    {
      "cell_type": "code",
      "source": [
        "import numpy as np\n",
        "import matplotlib.pyplot as plt"
      ],
      "metadata": {
        "id": "AuhsDD777zdE"
      },
      "execution_count": 9,
      "outputs": []
    },
    {
      "cell_type": "code",
      "source": [
        "import numpy as np, matplotlib.pyplot as plt"
      ],
      "metadata": {
        "id": "LIEnX-5n71vm"
      },
      "execution_count": 10,
      "outputs": []
    },
    {
      "cell_type": "code",
      "source": [
        "%reset"
      ],
      "metadata": {
        "colab": {
          "base_uri": "https://localhost:8080/",
          "height": 0
        },
        "id": "ZuXkGBMi75mH",
        "outputId": "939cfa35-adee-4954-ae12-daf8c7d3ac89"
      },
      "execution_count": 11,
      "outputs": [
        {
          "name": "stdout",
          "output_type": "stream",
          "text": [
            "Once deleted, variables cannot be recovered. Proceed (y/[n])? y\n"
          ]
        }
      ]
    },
    {
      "cell_type": "markdown",
      "source": [
        "5. Read through Appendix D in the textbook, and then type each line of code in sections 1.4.2 in its own cell and execute each. Explain the underlying issues with each error message. "
      ],
      "metadata": {
        "id": "nVG1Fks34j_V"
      }
    },
    {
      "cell_type": "code",
      "source": [
        "(2)(3)"
      ],
      "metadata": {
        "colab": {
          "base_uri": "https://localhost:8080/",
          "height": 166
        },
        "id": "FYu9p6MA7_ou",
        "outputId": "2769c6ee-5692-49f6-bc9a-e653983d8e55"
      },
      "execution_count": 12,
      "outputs": [
        {
          "output_type": "error",
          "ename": "TypeError",
          "evalue": "ignored",
          "traceback": [
            "\u001b[0;31m---------------------------------------------------------------------------\u001b[0m",
            "\u001b[0;31mTypeError\u001b[0m                                 Traceback (most recent call last)",
            "\u001b[0;32m<ipython-input-12-05d88058fdf8>\u001b[0m in \u001b[0;36m<module>\u001b[0;34m()\u001b[0m\n\u001b[0;32m----> 1\u001b[0;31m \u001b[0;34m(\u001b[0m\u001b[0;36m2\u001b[0m\u001b[0;34m)\u001b[0m\u001b[0;34m(\u001b[0m\u001b[0;36m3\u001b[0m\u001b[0;34m)\u001b[0m\u001b[0;34m\u001b[0m\u001b[0;34m\u001b[0m\u001b[0m\n\u001b[0m",
            "\u001b[0;31mTypeError\u001b[0m: 'int' object is not callable"
          ]
        }
      ]
    },
    {
      "cell_type": "markdown",
      "source": [
        "> The error here is that `(2)(3)` is trying to call `(2)` as an object with parameter `(3)`. The expected behavior is 6. To get 6, we must use `*`. "
      ],
      "metadata": {
        "id": "cioNkhRb8MwL"
      }
    },
    {
      "cell_type": "code",
      "source": [
        "a = 2; a(3)"
      ],
      "metadata": {
        "colab": {
          "base_uri": "https://localhost:8080/",
          "height": 166
        },
        "id": "se_3nEmJ8L-z",
        "outputId": "2aa51e55-e4e1-4649-c363-5ac6d9a9491d"
      },
      "execution_count": 13,
      "outputs": [
        {
          "output_type": "error",
          "ename": "TypeError",
          "evalue": "ignored",
          "traceback": [
            "\u001b[0;31m---------------------------------------------------------------------------\u001b[0m",
            "\u001b[0;31mTypeError\u001b[0m                                 Traceback (most recent call last)",
            "\u001b[0;32m<ipython-input-13-3ec61ef63de0>\u001b[0m in \u001b[0;36m<module>\u001b[0;34m()\u001b[0m\n\u001b[0;32m----> 1\u001b[0;31m \u001b[0ma\u001b[0m \u001b[0;34m=\u001b[0m \u001b[0;36m2\u001b[0m\u001b[0;34m;\u001b[0m \u001b[0ma\u001b[0m\u001b[0;34m(\u001b[0m\u001b[0;36m3\u001b[0m\u001b[0;34m)\u001b[0m\u001b[0;34m\u001b[0m\u001b[0;34m\u001b[0m\u001b[0m\n\u001b[0m",
            "\u001b[0;31mTypeError\u001b[0m: 'int' object is not callable"
          ]
        }
      ]
    },
    {
      "cell_type": "markdown",
      "source": [
        "> The error is here the same. We assign the variable `a = 2`. `a` is an integer and therefore not callable. We must use `*` to achieve multiplication."
      ],
      "metadata": {
        "id": "vJdJgU3k8mik"
      }
    },
    {
      "cell_type": "code",
      "source": [
        "3a"
      ],
      "metadata": {
        "colab": {
          "base_uri": "https://localhost:8080/",
          "height": 131
        },
        "id": "SsPwZb-O8xUp",
        "outputId": "f182d982-4e63-4317-e39f-b6755512f9c6"
      },
      "execution_count": 15,
      "outputs": [
        {
          "output_type": "error",
          "ename": "SyntaxError",
          "evalue": "ignored",
          "traceback": [
            "\u001b[0;36m  File \u001b[0;32m\"<ipython-input-15-ce83c9a3eeb6>\"\u001b[0;36m, line \u001b[0;32m1\u001b[0m\n\u001b[0;31m    3a\u001b[0m\n\u001b[0m     ^\u001b[0m\n\u001b[0;31mSyntaxError\u001b[0m\u001b[0;31m:\u001b[0m invalid syntax\n"
          ]
        }
      ]
    },
    {
      "cell_type": "markdown",
      "source": [
        "> This syntax is invalid. We must use the `*` to get mutiplication\n",
        "\n"
      ],
      "metadata": {
        "id": "skBXJIxz8zgC"
      }
    },
    {
      "cell_type": "code",
      "source": [
        "3 a"
      ],
      "metadata": {
        "colab": {
          "base_uri": "https://localhost:8080/",
          "height": 131
        },
        "id": "CKdKTYNq8-Hd",
        "outputId": "850c913c-596b-4993-a592-cb1fb285a785"
      },
      "execution_count": 16,
      "outputs": [
        {
          "output_type": "error",
          "ename": "SyntaxError",
          "evalue": "ignored",
          "traceback": [
            "\u001b[0;36m  File \u001b[0;32m\"<ipython-input-16-640c4bc38171>\"\u001b[0;36m, line \u001b[0;32m1\u001b[0m\n\u001b[0;31m    3 a\u001b[0m\n\u001b[0m      ^\u001b[0m\n\u001b[0;31mSyntaxError\u001b[0m\u001b[0;31m:\u001b[0m invalid syntax\n"
          ]
        }
      ]
    },
    {
      "cell_type": "markdown",
      "source": [
        "> This syntax is invalid. We must use the `*` to get mutiplication."
      ],
      "metadata": {
        "id": "-rM3srb88-iU"
      }
    },
    {
      "cell_type": "markdown",
      "source": [
        "6. What factors set the precision with which we can represent numbers on a computer?"
      ],
      "metadata": {
        "id": "V1CnYwUx5t6s"
      }
    },
    {
      "cell_type": "markdown",
      "source": [
        "> The amount of bits that a number can be stored with sets the precision with which we can represent numbers on a computer. Single precision numbers use 32 bits and double precision numbers use 64 bits. (Fun fact: This is why NASA only uses 15 digits of PI even though using at least 40 would provide significantly more precision)."
      ],
      "metadata": {
        "id": "RvFkn6c59K4B"
      }
    },
    {
      "cell_type": "markdown",
      "source": [
        "7. Import the NumPy library and name it \"np\". Now execute a snippet of code defining a variable named \"np.sqrt\" to equal 2. Now try to take the square root of 100.  What happens? What are two ways you can fix this problem?"
      ],
      "metadata": {
        "id": "Qerp9_ax55ky"
      }
    },
    {
      "cell_type": "code",
      "source": [
        "import numpy as np\n",
        "np.sqrt = 2"
      ],
      "metadata": {
        "id": "AIou4DaH9wbH"
      },
      "execution_count": 17,
      "outputs": []
    },
    {
      "cell_type": "code",
      "source": [
        "np.sqrt(100)"
      ],
      "metadata": {
        "colab": {
          "base_uri": "https://localhost:8080/",
          "height": 166
        },
        "id": "Vmwc_jQR9450",
        "outputId": "8a90fe5e-c60e-43b9-fc9f-fdd1e205519e"
      },
      "execution_count": 18,
      "outputs": [
        {
          "output_type": "error",
          "ename": "TypeError",
          "evalue": "ignored",
          "traceback": [
            "\u001b[0;31m---------------------------------------------------------------------------\u001b[0m",
            "\u001b[0;31mTypeError\u001b[0m                                 Traceback (most recent call last)",
            "\u001b[0;32m<ipython-input-18-f02dc2d40b6c>\u001b[0m in \u001b[0;36m<module>\u001b[0;34m()\u001b[0m\n\u001b[0;32m----> 1\u001b[0;31m \u001b[0mnp\u001b[0m\u001b[0;34m.\u001b[0m\u001b[0msqrt\u001b[0m\u001b[0;34m(\u001b[0m\u001b[0;36m100\u001b[0m\u001b[0;34m)\u001b[0m\u001b[0;34m\u001b[0m\u001b[0;34m\u001b[0m\u001b[0m\n\u001b[0m",
            "\u001b[0;31mTypeError\u001b[0m: 'int' object is not callable"
          ]
        }
      ]
    },
    {
      "cell_type": "markdown",
      "source": [
        "> We are overriding the NumPy `sqrt` method and setting it to an integer $2$. In order to fix this issue, we can use the `%reset` feature of the Notebooks to reset our environment. We can also navigate to Runtime > Restart runtime and get back the original NumPy method. We must be careful to remove the unwanted block of code to avoid the same happening again later."
      ],
      "metadata": {
        "id": "ZEn8qthA97Vu"
      }
    },
    {
      "cell_type": "markdown",
      "source": [
        "8. Let's say we have a problem that produces the following equation: $a^2 = 1000 e^{-a/25}$, and we want to solve for $a$. \n",
        "\n",
        "(a) Are you able to analytically solve for the value of $a$ that satisfies this equation? Explain.\n",
        "\n",
        "> You can begin to solve the equation, but get stuck with either a log or $e$. The next step would be to try and expand the function using the Taylor Series, however this would provide us with an approximation rather than an exact answer.\n",
        "\n",
        "(b) Describe in words how you might go identify a value for $a$ that satisfies the equation using a plot. What steps would you take, and what features would you look for?\n",
        "\n",
        "> Using a plot, we can plot $a^2$ and $1000 e^{-a/25}$. Using the plot, we can then observe where the two functions intersect. The values of $a$ where both plots intersect would be the solutions to the equation."
      ],
      "metadata": {
        "id": "DZ_7uE8_6ATi"
      }
    },
    {
      "cell_type": "markdown",
      "source": [
        "(c) Following your description in (b), create a plot that allows you to estimate the value of $a$ that satisfies this equation. For full credit, be sure to label the axes on your plot. From visual inspection, estimate the value of $a$ and explain your reasoning."
      ],
      "metadata": {
        "id": "LLioNNM3HekQ"
      }
    },
    {
      "cell_type": "code",
      "source": [
        "%reset"
      ],
      "metadata": {
        "colab": {
          "base_uri": "https://localhost:8080/",
          "height": 0
        },
        "id": "TvCCClQGF4Js",
        "outputId": "b442c487-c757-4ac4-f6b5-f0f1582f568d"
      },
      "execution_count": 36,
      "outputs": [
        {
          "name": "stdout",
          "output_type": "stream",
          "text": [
            "Once deleted, variables cannot be recovered. Proceed (y/[n])? y\n"
          ]
        }
      ]
    },
    {
      "cell_type": "code",
      "source": [
        "import math\n",
        "import matplotlib.pyplot as plt\n",
        "\n",
        "\n",
        "def left(a):\n",
        "  return a ** 2\n",
        "\n",
        "\n",
        "def right(a):\n",
        "  return 1000 * math.exp(-a/25)\n",
        "\n",
        "fig, ax = plt.subplots(1, 1)\n",
        "\n",
        "x = [i for i in range(30)]\n",
        "\n",
        "ax.plot(x, [left(a) for a in x], c='r')\n",
        "ax.plot(x, [right(a) for a in x], c='b')\n",
        "\n",
        "ax.set(xlabel=\"a\", ylabel=\"r: a^2, b: 1000*e^(-a/25)\")\n",
        "\n",
        "plt.show()"
      ],
      "metadata": {
        "colab": {
          "base_uri": "https://localhost:8080/",
          "height": 279
        },
        "id": "Tcl3N5R9_Otb",
        "outputId": "f265ed37-978e-445a-8d24-d1b5fb06dba5"
      },
      "execution_count": 38,
      "outputs": [
        {
          "output_type": "display_data",
          "data": {
            "image/png": "[encoded data removed]",
            "text/plain": [
              "<Figure size 432x288 with 1 Axes>"
            ]
          },
          "metadata": {
            "needs_background": "light"
          }
        }
      ]
    },
    {
      "cell_type": "markdown",
      "source": [
        "> $a$ appears to be approximately $21$\n",
        "\n",
        "(d) Can you think of another way to use plots to estimate the value of $a$? Create this plot, and again, label the axes. From visual inspection, estimate the value of $a$ and explain your reasoning."
      ],
      "metadata": {
        "id": "RjfcbAMBBKdP"
      }
    },
    {
      "cell_type": "code",
      "source": [
        "fig, ax = plt.subplots(1, 1)\n",
        "\n",
        "x = [i for i in range(30)]\n",
        "\n",
        "ax.plot(x, [right(a) - left(a) for a in x], c='r')\n",
        "ax.set(ylim=(0, 100), xlabel=\"a\", ylabel=\"1000*e^(-a/25) - a^2\")\n",
        "\n",
        "plt.show()"
      ],
      "metadata": {
        "colab": {
          "base_uri": "https://localhost:8080/",
          "height": 283
        },
        "id": "U3LSw13eCLqR",
        "outputId": "b14c2360-5a7d-4523-8476-6c10807f3ebc"
      },
      "execution_count": 35,
      "outputs": [
        {
          "output_type": "display_data",
          "data": {
            "image/png": "[encoded data removed]",
            "text/plain": [
              "<Figure size 432x288 with 1 Axes>"
            ]
          },
          "metadata": {
            "needs_background": "light"
          }
        }
      ]
    },
    {
      "cell_type": "markdown",
      "source": [
        "> If we move the left side of the equation to the right side, then we get $0 = 1000e^{-a/25} - a^2$. Therefore, we can observe for what values of $a$ does the equation produce 0. Plotting this, we can see that $a$ appears to be approximately $21$. "
      ],
      "metadata": {
        "id": "cVw1WE6nC7e4"
      }
    }
  ]
}